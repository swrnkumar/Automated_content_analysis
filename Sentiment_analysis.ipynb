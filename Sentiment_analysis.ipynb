{
 "cells": [
  {
   "cell_type": "markdown",
   "metadata": {},
   "source": [
    "# Sentiment analysis"
   ]
  },
  {
   "cell_type": "code",
   "execution_count": 1,
   "metadata": {
    "collapsed": true
   },
   "outputs": [],
   "source": [
    "import pandas as pd"
   ]
  },
  {
   "cell_type": "code",
   "execution_count": 2,
   "metadata": {
    "collapsed": true
   },
   "outputs": [],
   "source": [
    "# Loading sample data\n",
    "df = pd.read_csv('twitter_dataset.csv')"
   ]
  },
  {
   "cell_type": "markdown",
   "metadata": {},
   "source": [
    "## Detecting the language of a text\n",
    "\n",
    "Source: langdetect (https://pypi.python.org/pypi/langdetect)\n",
    "\n",
    "Step 1. In Terminal or Anaconda Prompt, install:\n",
    "\n",
    "```pip install langdetect```\n",
    "\n",
    "\n",
    "Step 2. In your Notebook, include the following code:"
   ]
  },
  {
   "cell_type": "code",
   "execution_count": 3,
   "metadata": {
    "collapsed": true
   },
   "outputs": [],
   "source": [
    "from langdetect import detect"
   ]
  },
  {
   "cell_type": "code",
   "execution_count": 4,
   "metadata": {
    "collapsed": true
   },
   "outputs": [],
   "source": [
    "df['langdetect'] = df['text'].apply(detect)"
   ]
  },
  {
   "cell_type": "code",
   "execution_count": 5,
   "metadata": {},
   "outputs": [
    {
     "data": {
      "text/plain": [
       "en    2418\n",
       "it      30\n",
       "es      30\n",
       "de      24\n",
       "ca      17\n",
       "fr       9\n",
       "tl       4\n",
       "nl       2\n",
       "id       1\n",
       "Name: langdetect, dtype: int64"
      ]
     },
     "execution_count": 5,
     "metadata": {},
     "output_type": "execute_result"
    }
   ],
   "source": [
    "df['langdetect'].value_counts()"
   ]
  },
  {
   "cell_type": "markdown",
   "metadata": {},
   "source": [
    "### Backup option in case langdetect does not work (as above)"
   ]
  },
  {
   "cell_type": "code",
   "execution_count": 8,
   "metadata": {
    "collapsed": true
   },
   "outputs": [],
   "source": [
    "def apply_langdetect(text):\n",
    "    text = str(text)\n",
    "    try:\n",
    "        lang = detect(text)\n",
    "    except:\n",
    "        lang = 'error'\n",
    "        \n",
    "    return lang"
   ]
  },
  {
   "cell_type": "code",
   "execution_count": 9,
   "metadata": {},
   "outputs": [],
   "source": [
    "df['langdetect2'] = df['text'].apply(apply_langdetect)"
   ]
  },
  {
   "cell_type": "code",
   "execution_count": 10,
   "metadata": {},
   "outputs": [
    {
     "data": {
      "text/plain": [
       "en    2418\n",
       "it      34\n",
       "es      30\n",
       "de      21\n",
       "ca      13\n",
       "fr      11\n",
       "tl       3\n",
       "nl       2\n",
       "id       2\n",
       "af       1\n",
       "Name: langdetect2, dtype: int64"
      ]
     },
     "execution_count": 10,
     "metadata": {},
     "output_type": "execute_result"
    }
   ],
   "source": [
    "df['langdetect2'].value_counts()"
   ]
  },
  {
   "cell_type": "markdown",
   "metadata": {},
   "source": [
    "## Sentiment Analysis in English\n",
    "\n",
    "There are several packages that perform sentiment analysis in English. Vader (https://github.com/cjhutto/vaderSentiment) is one of these packages, included in the NLTK library.\n",
    "\n",
    "Step 1. In Terminal or Anaconda Prompt, install:\n",
    "\n",
    "```conda install nltk```\n",
    "\n",
    "Step 2. Run the following code in your notebook"
   ]
  },
  {
   "cell_type": "code",
   "execution_count": 7,
   "metadata": {
    "collapsed": true
   },
   "outputs": [],
   "source": [
    "from nltk.sentiment.vader import SentimentIntensityAnalyzer\n",
    "sid = SentimentIntensityAnalyzer()"
   ]
  },
  {
   "cell_type": "code",
   "execution_count": 9,
   "metadata": {},
   "outputs": [
    {
     "data": {
      "text/plain": [
       "{'compound': 0.6369, 'neg': 0.0, 'neu': 0.192, 'pos': 0.808}"
      ]
     },
     "execution_count": 9,
     "metadata": {},
     "output_type": "execute_result"
    }
   ],
   "source": [
    "testtext = 'I love this'\n",
    "sid.polarity_scores(testtext)"
   ]
  },
  {
   "cell_type": "code",
   "execution_count": 10,
   "metadata": {
    "collapsed": true
   },
   "outputs": [],
   "source": [
    "def vader_text(row):\n",
    "    text = str(row['text']) # IMPORTANT: you need to change 'text' to the name of the column you need to analyse\n",
    "    try:\n",
    "        results = sid.polarity_scores(text)\n",
    "        row['vader_compound'] = results['compound']\n",
    "        row['vader_negative'] = results['neg']\n",
    "        row['vader_neutral'] = results['neu']\n",
    "        row['vader_positive'] = results['pos']\n",
    "    except:\n",
    "        pass\n",
    "    \n",
    "    return row\n",
    "    \n",
    "    "
   ]
  },
  {
   "cell_type": "code",
   "execution_count": 11,
   "metadata": {
    "collapsed": true
   },
   "outputs": [],
   "source": [
    "df = df.apply(vader_text, axis=1)"
   ]
  },
  {
   "cell_type": "code",
   "execution_count": 12,
   "metadata": {},
   "outputs": [
    {
     "data": {
      "text/html": [
       "<div>\n",
       "<style>\n",
       "    .dataframe thead tr:only-child th {\n",
       "        text-align: right;\n",
       "    }\n",
       "\n",
       "    .dataframe thead th {\n",
       "        text-align: left;\n",
       "    }\n",
       "\n",
       "    .dataframe tbody tr th {\n",
       "        vertical-align: top;\n",
       "    }\n",
       "</style>\n",
       "<table border=\"1\" class=\"dataframe\">\n",
       "  <thead>\n",
       "    <tr style=\"text-align: right;\">\n",
       "      <th></th>\n",
       "      <th>vader_compound</th>\n",
       "      <th>vader_negative</th>\n",
       "      <th>vader_neutral</th>\n",
       "      <th>vader_positive</th>\n",
       "    </tr>\n",
       "  </thead>\n",
       "  <tbody>\n",
       "    <tr>\n",
       "      <th>count</th>\n",
       "      <td>2535.000000</td>\n",
       "      <td>2535.000000</td>\n",
       "      <td>2535.00000</td>\n",
       "      <td>2535.000000</td>\n",
       "    </tr>\n",
       "    <tr>\n",
       "      <th>mean</th>\n",
       "      <td>0.141392</td>\n",
       "      <td>0.009686</td>\n",
       "      <td>0.92257</td>\n",
       "      <td>0.067746</td>\n",
       "    </tr>\n",
       "    <tr>\n",
       "      <th>std</th>\n",
       "      <td>0.257358</td>\n",
       "      <td>0.038054</td>\n",
       "      <td>0.10742</td>\n",
       "      <td>0.100505</td>\n",
       "    </tr>\n",
       "    <tr>\n",
       "      <th>min</th>\n",
       "      <td>-0.836000</td>\n",
       "      <td>0.000000</td>\n",
       "      <td>0.44800</td>\n",
       "      <td>0.000000</td>\n",
       "    </tr>\n",
       "    <tr>\n",
       "      <th>25%</th>\n",
       "      <td>0.000000</td>\n",
       "      <td>0.000000</td>\n",
       "      <td>0.85300</td>\n",
       "      <td>0.000000</td>\n",
       "    </tr>\n",
       "    <tr>\n",
       "      <th>50%</th>\n",
       "      <td>0.000000</td>\n",
       "      <td>0.000000</td>\n",
       "      <td>1.00000</td>\n",
       "      <td>0.000000</td>\n",
       "    </tr>\n",
       "    <tr>\n",
       "      <th>75%</th>\n",
       "      <td>0.361200</td>\n",
       "      <td>0.000000</td>\n",
       "      <td>1.00000</td>\n",
       "      <td>0.146000</td>\n",
       "    </tr>\n",
       "    <tr>\n",
       "      <th>max</th>\n",
       "      <td>0.913600</td>\n",
       "      <td>0.453000</td>\n",
       "      <td>1.00000</td>\n",
       "      <td>0.532000</td>\n",
       "    </tr>\n",
       "  </tbody>\n",
       "</table>\n",
       "</div>"
      ],
      "text/plain": [
       "       vader_compound  vader_negative  vader_neutral  vader_positive\n",
       "count     2535.000000     2535.000000     2535.00000     2535.000000\n",
       "mean         0.141392        0.009686        0.92257        0.067746\n",
       "std          0.257358        0.038054        0.10742        0.100505\n",
       "min         -0.836000        0.000000        0.44800        0.000000\n",
       "25%          0.000000        0.000000        0.85300        0.000000\n",
       "50%          0.000000        0.000000        1.00000        0.000000\n",
       "75%          0.361200        0.000000        1.00000        0.146000\n",
       "max          0.913600        0.453000        1.00000        0.532000"
      ]
     },
     "execution_count": 12,
     "metadata": {},
     "output_type": "execute_result"
    }
   ],
   "source": [
    "df[['vader_compound', 'vader_negative', 'vader_neutral', 'vader_positive']].describe()"
   ]
  },
  {
   "cell_type": "markdown",
   "metadata": {},
   "source": [
    "## Sentiment Analysis in EN, FR, IT, NL\n",
    "\n",
    "Pattern (https://www.clips.uantwerpen.be/pages/pattern) is an NLP package that provides sentiment analysis in English, Spanish, German, French, Italian and Dutch. This module is still in beta for Python3, so the installation is a bit more complex. Here are the steps for OSX. If you have a Windows computer and this does not work, please come to the office hours.\n",
    "\n",
    "Step 1. In Terminal or Anaconda Prompt, install:\n",
    "\n",
    "```\n",
    "git clone -b development https://github.com/clips/pattern\n",
    "cd pattern\n",
    "sudo python3.6 setup.py install\n",
    "```\n",
    "\n",
    "Step 2. Run the following code in your notebook"
   ]
  },
  {
   "cell_type": "code",
   "execution_count": 2,
   "metadata": {},
   "outputs": [],
   "source": [
    "from pattern3.nl import sentiment #change .nl to .en, .fr or .it depending on the language needed"
   ]
  },
  {
   "cell_type": "code",
   "execution_count": 3,
   "metadata": {},
   "outputs": [
    {
     "data": {
      "text/plain": [
       "(-0.35, 1.0)"
      ]
     },
     "execution_count": 3,
     "metadata": {},
     "output_type": "execute_result"
    }
   ],
   "source": [
    "testtext = 'Ik vind dit erg'\n",
    "sentiment(testtext)"
   ]
  },
  {
   "cell_type": "code",
   "execution_count": 15,
   "metadata": {
    "collapsed": true
   },
   "outputs": [],
   "source": [
    "def pattern_text(row):\n",
    "    text = str(row['text']) # IMPORTANT: you need to change 'text' to the name of the column you need to analyse\n",
    "    try:\n",
    "        row['pattern_polarity'], row['pattern_subjectivity'] = sentiment(text)\n",
    "    except:\n",
    "        pass\n",
    "    \n",
    "    return row"
   ]
  },
  {
   "cell_type": "code",
   "execution_count": 16,
   "metadata": {
    "collapsed": true
   },
   "outputs": [],
   "source": [
    "df = df.apply(pattern_text, axis=1)"
   ]
  },
  {
   "cell_type": "code",
   "execution_count": 17,
   "metadata": {},
   "outputs": [
    {
     "data": {
      "text/html": [
       "<div>\n",
       "<style>\n",
       "    .dataframe thead tr:only-child th {\n",
       "        text-align: right;\n",
       "    }\n",
       "\n",
       "    .dataframe thead th {\n",
       "        text-align: left;\n",
       "    }\n",
       "\n",
       "    .dataframe tbody tr th {\n",
       "        vertical-align: top;\n",
       "    }\n",
       "</style>\n",
       "<table border=\"1\" class=\"dataframe\">\n",
       "  <thead>\n",
       "    <tr style=\"text-align: right;\">\n",
       "      <th></th>\n",
       "      <th>pattern_polarity</th>\n",
       "      <th>pattern_subjectivity</th>\n",
       "    </tr>\n",
       "  </thead>\n",
       "  <tbody>\n",
       "    <tr>\n",
       "      <th>count</th>\n",
       "      <td>2535.000000</td>\n",
       "      <td>2535.000000</td>\n",
       "    </tr>\n",
       "    <tr>\n",
       "      <th>mean</th>\n",
       "      <td>0.020429</td>\n",
       "      <td>0.107793</td>\n",
       "    </tr>\n",
       "    <tr>\n",
       "      <th>std</th>\n",
       "      <td>0.192833</td>\n",
       "      <td>0.295896</td>\n",
       "    </tr>\n",
       "    <tr>\n",
       "      <th>min</th>\n",
       "      <td>-0.750000</td>\n",
       "      <td>0.000000</td>\n",
       "    </tr>\n",
       "    <tr>\n",
       "      <th>25%</th>\n",
       "      <td>0.000000</td>\n",
       "      <td>0.000000</td>\n",
       "    </tr>\n",
       "    <tr>\n",
       "      <th>50%</th>\n",
       "      <td>0.000000</td>\n",
       "      <td>0.000000</td>\n",
       "    </tr>\n",
       "    <tr>\n",
       "      <th>75%</th>\n",
       "      <td>0.000000</td>\n",
       "      <td>0.000000</td>\n",
       "    </tr>\n",
       "    <tr>\n",
       "      <th>max</th>\n",
       "      <td>1.000000</td>\n",
       "      <td>1.000000</td>\n",
       "    </tr>\n",
       "  </tbody>\n",
       "</table>\n",
       "</div>"
      ],
      "text/plain": [
       "       pattern_polarity  pattern_subjectivity\n",
       "count       2535.000000           2535.000000\n",
       "mean           0.020429              0.107793\n",
       "std            0.192833              0.295896\n",
       "min           -0.750000              0.000000\n",
       "25%            0.000000              0.000000\n",
       "50%            0.000000              0.000000\n",
       "75%            0.000000              0.000000\n",
       "max            1.000000              1.000000"
      ]
     },
     "execution_count": 17,
     "metadata": {},
     "output_type": "execute_result"
    }
   ],
   "source": [
    "df[['pattern_polarity', 'pattern_subjectivity']].describe()"
   ]
  },
  {
   "cell_type": "code",
   "execution_count": null,
   "metadata": {
    "collapsed": true
   },
   "outputs": [],
   "source": []
  }
 ],
 "metadata": {
  "kernelspec": {
   "display_name": "Python 3",
   "language": "python",
   "name": "python3"
  },
  "language_info": {
   "codemirror_mode": {
    "name": "ipython",
    "version": 3
   },
   "file_extension": ".py",
   "mimetype": "text/x-python",
   "name": "python",
   "nbconvert_exporter": "python",
   "pygments_lexer": "ipython3",
   "version": "3.7.4"
  }
 },
 "nbformat": 4,
 "nbformat_minor": 2
}
