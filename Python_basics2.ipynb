{
 "cells": [
  {
   "cell_type": "markdown",
   "metadata": {},
   "source": [
    "# Python Basics 2\n",
    "\n",
    "## What we will cover?\n",
    "\n",
    "Now that we have a basic idea about Python data types, and explored the concept of lists, tuples and dictionaries, we're getting closer to concepts we'll use for data analysis. Especially in the Data Understanding and Data Preparation stages, we often will need to transform or clean up our data. The concepts that we will cover in this tutorial help us do this. Here's what we'll cover:\n",
    "\n",
    "* Conditions\n",
    "* Loops\n",
    "* Functions\n",
    "\n",
    "\n"
   ]
  },
  {
   "cell_type": "markdown",
   "metadata": {
    "collapsed": true
   },
   "source": [
    "## Conditions\n",
    "\n",
    "Conditions are a way to test if something is happening and, if so, to do something about it. Let's explore a bit.\n"
   ]
  },
  {
   "cell_type": "code",
   "execution_count": null,
   "metadata": {
    "collapsed": true
   },
   "outputs": [],
   "source": [
    "a = 1"
   ]
  },
  {
   "cell_type": "code",
   "execution_count": null,
   "metadata": {},
   "outputs": [],
   "source": [
    "if a == 1:\n",
    "    print('a is 1!!!')"
   ]
  },
  {
   "cell_type": "code",
   "execution_count": null,
   "metadata": {
    "collapsed": true
   },
   "outputs": [],
   "source": [
    "a = 0"
   ]
  },
  {
   "cell_type": "code",
   "execution_count": null,
   "metadata": {
    "collapsed": true
   },
   "outputs": [],
   "source": [
    "if a == 1:\n",
    "    print('a is 1!')"
   ]
  },
  {
   "cell_type": "code",
   "execution_count": null,
   "metadata": {},
   "outputs": [],
   "source": [
    "if a == 2:\n",
    "    print('a is 2!')\n",
    "else:\n",
    "    print('a is not 2!')"
   ]
  },
  {
   "cell_type": "markdown",
   "metadata": {
    "collapsed": true
   },
   "source": [
    "Some important things that we've done above:\n",
    "* First, we indicated a condition by checking IF SOMETHING is equal (==) to SOMETHING ELSE.\n",
    "* Notice that after the condition, we have a :. It indicates what needs to be done if that condition is TRUE\n",
    "* After the column, we have indented text (meaning: there's a tab). Everything that is within that area (even the lines below, should they also be indented) belong to that condition\n",
    "* We also used ELSE to indicate what to do if the condition was FALSE\n",
    "\n",
    "\n",
    "Let's look at another example:"
   ]
  },
  {
   "cell_type": "code",
   "execution_count": null,
   "metadata": {},
   "outputs": [],
   "source": [
    "mylist = [1, 2, 3]\n",
    "\n",
    "if 3 in mylist:\n",
    "    print(\"there's a 3 in my list\")\n",
    "    print(\"my list has\", len(mylist), \"items\")\n",
    "else:\n",
    "    print(\"there's no 3 in my list\")"
   ]
  },
  {
   "cell_type": "code",
   "execution_count": null,
   "metadata": {},
   "outputs": [],
   "source": [
    "if 4 in mylist:\n",
    "    print(\"there's a 4 in my list\")\n",
    "    print(\"my list has\", len(mylist), \"items\")\n",
    "else:\n",
    "    print(\"there's no 4 in my list\")"
   ]
  },
  {
   "cell_type": "code",
   "execution_count": null,
   "metadata": {},
   "outputs": [],
   "source": [
    "a = 1\n",
    "b = 1000000\n",
    "\n",
    "if a > b: \n",
    "    print('a > b')\n",
    "elif a < b: \n",
    "    print('a < b')\n",
    "elif a == b: \n",
    "    print('a == b')"
   ]
  },
  {
   "cell_type": "markdown",
   "metadata": {},
   "source": [
    "The \"elif\" condition is a shorthand for \"else if\". This allows us to check one condition and, if it is not true, check another condition. In the example above it does not matter. Check the two examples below and let's see why it matters."
   ]
  },
  {
   "cell_type": "code",
   "execution_count": null,
   "metadata": {},
   "outputs": [],
   "source": [
    "a = 0\n",
    "b = 0\n",
    "\n",
    "\n",
    "if a == b: \n",
    "    print('a == b')\n",
    "elif a == 0: \n",
    "    print('a == 0')\n"
   ]
  },
  {
   "cell_type": "code",
   "execution_count": null,
   "metadata": {},
   "outputs": [],
   "source": [
    "a = 0\n",
    "b = 0\n",
    "\n",
    "\n",
    "if a == b: \n",
    "    print('a == b')\n",
    "if a == 0: \n",
    "    print('a == 0')"
   ]
  },
  {
   "cell_type": "markdown",
   "metadata": {},
   "source": [
    "Enough about conditions for now. We'll use them a lot more later on, combined with loops and functions."
   ]
  },
  {
   "cell_type": "markdown",
   "metadata": {},
   "source": [
    "## Loops\n",
    "Loops are a way to ask Python to do something continuously - until a certain condition is met. While it is possible to create a loop that does not end (without an exit condition), we should never do that... otherwise, the code would run forever. Let's see some basic loops."
   ]
  },
  {
   "cell_type": "code",
   "execution_count": 2,
   "metadata": {},
   "outputs": [
    {
     "name": "stdout",
     "output_type": "stream",
     "text": [
      "counter at 0\n",
      "counter at 1\n",
      "counter at 2\n",
      "counter at 3\n",
      "counter at 4\n",
      "counter at 5\n",
      "counter at 6\n",
      "counter at 7\n",
      "counter at 8\n",
      "counter at 9\n",
      "counter finished at 10\n"
     ]
    }
   ],
   "source": [
    "counter = 0\n",
    "while counter < 10:\n",
    "    print('counter at', counter)\n",
    "    counter += 1\n",
    "\n",
    "print('counter finished at', counter)"
   ]
  },
  {
   "cell_type": "code",
   "execution_count": 3,
   "metadata": {},
   "outputs": [
    {
     "name": "stdout",
     "output_type": "stream",
     "text": [
      "1\n",
      "2\n",
      "3\n",
      "4\n",
      "5\n",
      "6\n",
      "7\n",
      "8\n",
      "9\n",
      "10\n"
     ]
    }
   ],
   "source": [
    "mylist = [1,2,3,4,5,6,7,8,9,10]\n",
    "\n",
    "for i in mylist:\n",
    "    print(i)"
   ]
  },
  {
   "cell_type": "markdown",
   "metadata": {},
   "source": [
    "**while** and **for** are some common ways to do loops in Python:\n",
    "* while will repeat the code (that is in the indented area) until a certain condition is met\n",
    "* for will loop for each element of a list (or a string, or tuple) until there are no elements anymore"
   ]
  },
  {
   "cell_type": "code",
   "execution_count": 4,
   "metadata": {},
   "outputs": [
    {
     "name": "stdout",
     "output_type": "stream",
     "text": [
      "t\n",
      "h\n",
      "i\n",
      "s\n",
      " \n",
      "i\n",
      "s\n",
      " \n",
      "a\n",
      " \n",
      "s\n",
      "e\n",
      "n\n",
      "t\n",
      "e\n",
      "n\n",
      "c\n",
      "e\n",
      "!\n"
     ]
    }
   ],
   "source": [
    "for l in 'this is a sentence!':\n",
    "    print(l)"
   ]
  },
  {
   "cell_type": "markdown",
   "metadata": {},
   "source": [
    "## Functions\n",
    "Functions are a way to repeat a certain activity multiple times in Python. They help you write a certain action once, and reuse it many times. As you can imagine, this is really powerful for data preparation. Let's see some examples.\n",
    "\n",
    "\n",
    "Let's say we want a function that always add 1 to any number we give to it.\n"
   ]
  },
  {
   "cell_type": "code",
   "execution_count": null,
   "metadata": {
    "collapsed": true
   },
   "outputs": [],
   "source": [
    "def add_one(number):\n",
    "    number = number + 1\n",
    "    return number"
   ]
  },
  {
   "cell_type": "code",
   "execution_count": null,
   "metadata": {},
   "outputs": [],
   "source": [
    "add_one(3)"
   ]
  },
  {
   "cell_type": "code",
   "execution_count": null,
   "metadata": {},
   "outputs": [],
   "source": [
    "add_one(1009209)"
   ]
  },
  {
   "cell_type": "code",
   "execution_count": null,
   "metadata": {},
   "outputs": [],
   "source": [
    "add_one(-1)"
   ]
  },
  {
   "cell_type": "code",
   "execution_count": null,
   "metadata": {},
   "outputs": [],
   "source": [
    "mylist = [1,2,3,4,5,6]"
   ]
  },
  {
   "cell_type": "code",
   "execution_count": null,
   "metadata": {},
   "outputs": [],
   "source": [
    "for item in mylist:\n",
    "    print(add_one(item))"
   ]
  },
  {
   "cell_type": "code",
   "execution_count": null,
   "metadata": {},
   "outputs": [],
   "source": [
    "mylist"
   ]
  },
  {
   "cell_type": "markdown",
   "metadata": {},
   "source": [
    "Let's say we have a list with data that needs to be cleaned out. The list has numerical values (which we want), but some unneeded text data (that we want to change by 99, our code for missing value). How can we do this?"
   ]
  },
  {
   "cell_type": "code",
   "execution_count": null,
   "metadata": {
    "collapsed": true
   },
   "outputs": [],
   "source": [
    "mydata = [1,2.5,3,4,1,2,3,4,2,23,4,5,6,'firhkj', 1,2,3, 'dejde']"
   ]
  },
  {
   "cell_type": "code",
   "execution_count": null,
   "metadata": {},
   "outputs": [],
   "source": [
    "len(mydata)"
   ]
  },
  {
   "cell_type": "markdown",
   "metadata": {},
   "source": [
    "First, let's write a function to do this. In order to write a function, we need to see the type of check we need to make. The easiest way is to just simulate first ourselves."
   ]
  },
  {
   "cell_type": "code",
   "execution_count": null,
   "metadata": {},
   "outputs": [],
   "source": [
    "type(1)"
   ]
  },
  {
   "cell_type": "code",
   "execution_count": null,
   "metadata": {},
   "outputs": [],
   "source": [
    "type(2.5)"
   ]
  },
  {
   "cell_type": "code",
   "execution_count": null,
   "metadata": {},
   "outputs": [],
   "source": [
    "type('firhkj')"
   ]
  },
  {
   "cell_type": "markdown",
   "metadata": {},
   "source": [
    "Okay, so it looks like our condition needs to have something using the output of **type** (because we want numbers but not text). "
   ]
  },
  {
   "cell_type": "code",
   "execution_count": null,
   "metadata": {
    "collapsed": true
   },
   "outputs": [],
   "source": [
    "def check_number(item):\n",
    "    if type(item) == str:\n",
    "        return 99\n",
    "    else:\n",
    "        return item\n",
    "        "
   ]
  },
  {
   "cell_type": "code",
   "execution_count": null,
   "metadata": {},
   "outputs": [],
   "source": [
    "check_number(1)"
   ]
  },
  {
   "cell_type": "code",
   "execution_count": null,
   "metadata": {},
   "outputs": [],
   "source": [
    "check_number(2.5)"
   ]
  },
  {
   "cell_type": "code",
   "execution_count": null,
   "metadata": {},
   "outputs": [],
   "source": [
    "check_number('firhkj')"
   ]
  },
  {
   "cell_type": "markdown",
   "metadata": {},
   "source": [
    "Looks like it worked! Let's now create a new list, and add the items from the previous list (but clean them up)"
   ]
  },
  {
   "cell_type": "code",
   "execution_count": null,
   "metadata": {
    "collapsed": true
   },
   "outputs": [],
   "source": [
    "clean_list = []"
   ]
  },
  {
   "cell_type": "code",
   "execution_count": null,
   "metadata": {},
   "outputs": [],
   "source": [
    "for item in mydata:\n",
    "    new_item = check_number(item)\n",
    "    clean_list.append(new_item)"
   ]
  },
  {
   "cell_type": "code",
   "execution_count": null,
   "metadata": {},
   "outputs": [],
   "source": [
    "clean_list"
   ]
  },
  {
   "cell_type": "code",
   "execution_count": null,
   "metadata": {},
   "outputs": [],
   "source": [
    "mydata"
   ]
  },
  {
   "cell_type": "code",
   "execution_count": null,
   "metadata": {
    "collapsed": true
   },
   "outputs": [],
   "source": []
  },
  {
   "cell_type": "markdown",
   "metadata": {},
   "source": [
    "# Assignments"
   ]
  },
  {
   "cell_type": "markdown",
   "metadata": {},
   "source": [
    "## Challenge 1\n",
    "Create a function that tests if an element of a list is a number or a string. If it is a number, it should return its value divided by two. If it is a string, it should return the length of the string."
   ]
  },
  {
   "cell_type": "code",
   "execution_count": 1,
   "metadata": {},
   "outputs": [
    {
     "name": "stdout",
     "output_type": "stream",
     "text": [
      "23.0\n",
      "3\n",
      "283993.5\n",
      "28.45\n",
      "3\n",
      "3361706.5\n",
      "5\n",
      "338888776266.5\n",
      "5\n",
      "11\n",
      "43823.0493322\n"
     ]
    }
   ],
   "source": [
    "testList = [46, \"Swa\", 567987, 56.9, \"Amb\", 6723413, \"Advay\", 677777552533, \"Samay\", \"Pepernotten\", 87646.0986644]\n",
    "for element in testList:\n",
    "    try:\n",
    "        if type(element) == str:\n",
    "            lengthofString = len(element)\n",
    "            print (lengthofString)\n",
    "        elif type(element) == int or type(element) == float:\n",
    "            print (element/2)\n",
    "    except:\n",
    "        print(\"Invalid element\")  "
   ]
  },
  {
   "cell_type": "code",
   "execution_count": null,
   "metadata": {
    "collapsed": true
   },
   "outputs": [],
   "source": []
  },
  {
   "cell_type": "markdown",
   "metadata": {},
   "source": [
    "## Challenge 2\n",
    "\n",
    "The table below contains a dataset containing customer IDs, ages, the name of the website they visited, and whether they clicked on the ad. You need to do three things:\n",
    "\n",
    "1. Move this table to a data structure (list, dictionary, list of lists... or whatever you prefer)\n",
    "2. Create a function that categorizes the website type (define a categorization that you find meaningful)\n",
    "3. Create a function that categorizes the customers according to age groups (define which age groups you want to use)\n",
    "\n",
    "\n",
    "| CID  | Age  | Website  | Click  |\n",
    "|---|---|---|---|\n",
    "|  1 | 19  | NBC  |  1 |\n",
    "|  2 | 25  | New York Times  |  0 |\n",
    "|  3 | 41  | Facebook  | 0  |\n",
    "|  4 | 37  | Twitter  |  1 |\n",
    "|  5 | 64  | Buzzfeed  | 1  |\n",
    "|  6 | 50  | CBS  |  0 |\n",
    "|  7 | 18  | The Guardian  | 0  |\n",
    "|  8 | 55  | Google News  | 1  |\n",
    "\n",
    "\n",
    "\n",
    "\n",
    "\n"
   ]
  },
  {
   "cell_type": "code",
   "execution_count": null,
   "metadata": {
    "collapsed": true
   },
   "outputs": [],
   "source": []
  }
 ],
 "metadata": {
  "anaconda-cloud": {},
  "kernelspec": {
   "display_name": "Python 3",
   "language": "python",
   "name": "python3"
  },
  "language_info": {
   "codemirror_mode": {
    "name": "ipython",
    "version": 3
   },
   "file_extension": ".py",
   "mimetype": "text/x-python",
   "name": "python",
   "nbconvert_exporter": "python",
   "pygments_lexer": "ipython3",
   "version": "3.7.6"
  }
 },
 "nbformat": 4,
 "nbformat_minor": 1
}
