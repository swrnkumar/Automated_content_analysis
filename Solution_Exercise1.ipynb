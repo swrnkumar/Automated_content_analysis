{
 "cells": [
  {
   "cell_type": "markdown",
   "metadata": {},
   "source": [
    "## Challenge 1 \n",
    "\n",
    "### Remove items from list and dictionary"
   ]
  },
  {
   "cell_type": "code",
   "execution_count": 10,
   "metadata": {},
   "outputs": [
    {
     "name": "stdout",
     "output_type": "stream",
     "text": [
      "['banana', 'grapes']\n",
      "{'banana': 'yellow', 'grapes': 'green'}\n"
     ]
    }
   ],
   "source": [
    "fruits = [\"apple\", \"banana\", \"grapes\"]\n",
    "fruits_dict = {\"apple\": \"red\", \"banana\": \"yellow\", \"grapes\": \"green\"}\n",
    "fruits.remove(\"apple\")\n",
    "del fruits_dict[\"apple\"]\n",
    "print(fruits)\n",
    "print(fruits_dict)"
   ]
  },
  {
   "cell_type": "markdown",
   "metadata": {},
   "source": [
    "### Lowercase"
   ]
  },
  {
   "cell_type": "code",
   "execution_count": 14,
   "metadata": {},
   "outputs": [
    {
     "name": "stdout",
     "output_type": "stream",
     "text": [
      "this text is completely in upper case!\n"
     ]
    }
   ],
   "source": [
    "allupper = 'THIS TEXT IS COMPLETELY IN UPPER CASE!'\n",
    "allupper_low = allupper.lower()\n",
    "print(allupper_low)"
   ]
  },
  {
   "cell_type": "markdown",
   "metadata": {},
   "source": [
    "### String in list of words"
   ]
  },
  {
   "cell_type": "code",
   "execution_count": 17,
   "metadata": {},
   "outputs": [
    {
     "name": "stdout",
     "output_type": "stream",
     "text": [
      "['This', 'is', 'a', 'sentence', 'with', 'words', 'separated', 'by', 'a', 'lot', 'of', 'spaces.', 'How', 'can', 'we', 'split', 'it', 'into', 'a', 'list', 'of', 'words?']\n"
     ]
    }
   ],
   "source": [
    "sentence = '''This is a sentence with words separated by a lot of spaces.\n",
    "How can we split it into a list of words?'''\n",
    "sentence_list = sentence.split()\n",
    "print(sentence_list)"
   ]
  },
  {
   "cell_type": "markdown",
   "metadata": {},
   "source": [
    "### Organize Data"
   ]
  },
  {
   "cell_type": "markdown",
   "metadata": {},
   "source": [
    "I have decided to organize the information in a nested dictionary, the first layer being the name of the person (so it is easy to search for persons by their name) and then attach all the information about this person in the value of the key as a dict. Below I also give an example how the different parts of the dictionary can be addressed and be printed in an easy to read format. When no information is given for a specific key (e.g. no marital status or number of children) I added \"None\" so I wouldn't get any key errors when looping over the dictionary and every person has the same keys. This also allows me to for example take the mean of all ages given or list all locations at once.  "
   ]
  },
  {
   "cell_type": "code",
   "execution_count": 44,
   "metadata": {},
   "outputs": [
    {
     "name": "stdout",
     "output_type": "stream",
     "text": [
      "John Smith is 32 years old, is an analyst at Salesforce UK, and is father to a young boy. He is divorced. Mary Smith is 21 years old, currently studies at the University of Amsterdam, and was born in the US. Tom Brokaw is a US journalist, born in 1940, married with three children.\n",
      "\n",
      "\n",
      "JOHN SMITH\n",
      "age : 32\n",
      "profession : analyst (Salesforce)\n",
      "country : UK\n",
      "children : 1\n",
      "status : divorced\n",
      "\n",
      "\n",
      "MARY SMITH\n",
      "age : 21\n",
      "profession : student (UvA)\n",
      "country : US\n",
      "children : None\n",
      "status : None\n",
      "\n",
      "\n",
      "TOM BROKAW\n",
      "age : 77\n",
      "profession : journalist\n",
      "country : US\n",
      "children : 3\n",
      "status : married\n",
      "\n",
      "\n",
      "The average age is: 43.333333333333336\n",
      "The people come from the following countries: ['UK', 'US', 'US']\n"
     ]
    }
   ],
   "source": [
    "textstring = \"John Smith is 32 years old, is an analyst at Salesforce UK, and is \\\n",
    "father to a young boy. He is divorced. Mary Smith is 21 years old, currently studies \\\n",
    "at the University of Amsterdam, and was born in the US. Tom Brokaw is a US journalist, born \\\n",
    "in 1940, married with three children.\"\n",
    "\n",
    "print(textstring)\n",
    "\n",
    "persons_dict = {\"John Smith\": {\"age\": 32, \"profession\": \"analyst (Salesforce)\", \"country\": \"UK\", \"children\": 1, \"status\": \"divorced\"}, \n",
    "               \"Mary Smith\": {\"age\": 21, \"profession\": \"student (UvA)\", \"country\": \"US\", \"children\": None, \"status\": None},\n",
    "               \"Tom Brokaw\": {\"age\": 77, \"profession\": \"journalist\", \"country\": \"US\", \"children\": 3, \"status\": \"married\"}}\n",
    "\n",
    "for key, value in persons_dict.items():\n",
    "    print(\"\\n\")\n",
    "    print(key.upper())\n",
    "    for key1, value1 in value.items():\n",
    "        print (key1, \":\", value1)\n",
    "\n",
    "age = 0\n",
    "n = len(persons_dict)\n",
    "\n",
    "for key, value in persons_dict.items():\n",
    "    for key1, value1 in value.items():\n",
    "        if key1 == \"age\":\n",
    "            age += value1\n",
    "print(\"\\n\")            \n",
    "print(\"The average age is:\", age/n)\n",
    "\n",
    "countries = []\n",
    "\n",
    "for key, value in persons_dict.items():\n",
    "    for key1, value1 in value.items():\n",
    "        if key1 == \"country\":\n",
    "            countries.append(value1)\n",
    "\n",
    "print(\"The people come from the following countries:\", countries)"
   ]
  },
  {
   "cell_type": "markdown",
   "metadata": {},
   "source": [
    "### Function that tests whether item is number or string"
   ]
  },
  {
   "cell_type": "code",
   "execution_count": 13,
   "metadata": {},
   "outputs": [
    {
     "name": "stdout",
     "output_type": "stream",
     "text": [
      "5\n",
      "2.0\n"
     ]
    }
   ],
   "source": [
    "def testing_function(item):\n",
    "    if type(item) == str: \n",
    "        print(len(item))\n",
    "    elif type(item) in [float, int]:\n",
    "        print(item/2)\n",
    "\n",
    "testing_function(\"Hello\")\n",
    "testing_function(4)"
   ]
  },
  {
   "cell_type": "markdown",
   "metadata": {},
   "source": [
    "## Challenge 2"
   ]
  },
  {
   "cell_type": "markdown",
   "metadata": {},
   "source": [
    "**Assignment**: Move the table to a data structure. \n",
    "\n",
    "I decided to use (again) a nested dictionary so that it is possible to search for people when knowing their ID's and find all information attached to them. If I had the actual table (in csv or pandas format) I could also loop over the rows to create the dictionary and would not have to write it again (less danger of typos)"
   ]
  },
  {
   "cell_type": "code",
   "execution_count": 1,
   "metadata": {},
   "outputs": [],
   "source": [
    "dict_websites = {\"1\": {\"age\": 19,  \"website\": \"NBC\", \"click\":\"1\" }, \n",
    "                 \"2\": {\"age\": 25,  \"website\": \"New York Times\", \"click\":\"0\" }, \n",
    "                 \"3\": {\"age\": 41, \"website\": \"Facebook\",  \"click\":\"0\" }, \n",
    "                 \"4\": {\"age\": 37, \"website\": \"Twitter\", \"click\":\"1\" }, \n",
    "                 \"5\": {\"age\": 64, \"website\": \"Buzzfeed\", \"click\": \"1\"}, \n",
    "                 \"6\": {\"age\": 50, \"website\": \"CBS\", \"click\": \"0\"}, \n",
    "                 \"7\": {\"age\": 18, \"website\": \"The Guardian\", \"click\":\"0\" }, \n",
    "                 \"8\": {\"age\": 55, \"website\":\"Google News\", \"click\":\"1\" }}"
   ]
  },
  {
   "cell_type": "code",
   "execution_count": 4,
   "metadata": {},
   "outputs": [
    {
     "data": {
      "text/plain": [
       "{'age': 19, 'website': 'NBC', 'click': '1'}"
      ]
     },
     "execution_count": 4,
     "metadata": {},
     "output_type": "execute_result"
    }
   ],
   "source": [
    "dict_websites[\"1\"]"
   ]
  },
  {
   "cell_type": "markdown",
   "metadata": {},
   "source": [
    "**Assignment**: Create a function that categorizes the website type\n",
    "\n",
    "I have made two functions for this assignment: One makes the dictionary (with the help of a defaultdict so I don't get key errors when adding a new category in the future) and the other one prints the categories for all the sources we have in our dataset. "
   ]
  },
  {
   "cell_type": "code",
   "execution_count": 31,
   "metadata": {},
   "outputs": [
    {
     "name": "stdout",
     "output_type": "stream",
     "text": [
      "The source NBC is classified as broadcasting.\n",
      "The source New York Times is classified as newspaper.\n",
      "The source Facebook is classified as social_media.\n",
      "The source Twitter is classified as social_media.\n",
      "The source Buzzfeed is classified as online_news.\n",
      "The source CBS is classified as broadcasting.\n",
      "The source The Guardian is classified as newspaper.\n",
      "The source Google News is classified as online_news.\n"
     ]
    }
   ],
   "source": [
    "from collections import defaultdict\n",
    "sources_dict = defaultdict(list)\n",
    "    \n",
    "def make_categories(source):\n",
    "    if source == \"Facebook\" or source == \"Twitter\":\n",
    "        sources_dict[\"social_media\"].append(source)\n",
    "    elif source == \"Buzzfeed\" or source == \"Google News\":\n",
    "        sources_dict[\"online_news\"].append(source)\n",
    "    elif source == \"New York Times\" or source == \"The Guardian\":\n",
    "        sources_dict[\"newspaper\"].append(source)\n",
    "    elif source == \"NBC\" or source == \"CBS\":\n",
    "        sources_dict[\"broadcasting\"].append(source)\n",
    "\n",
    "list_websites = []\n",
    "for key, value in dict_websites.items():\n",
    "    list_websites.append(value[\"website\"])\n",
    "    make_categories(value[\"website\"])\n",
    "    \n",
    "def print_category(source):\n",
    "    for key,value in sources_dict.items():\n",
    "        if source in value:\n",
    "            print(\"The source %s is classified as %s.\" %(source, key))\n",
    "            \n",
    "for source in list_websites:\n",
    "    print_category(source)"
   ]
  },
  {
   "cell_type": "markdown",
   "metadata": {
    "collapsed": true
   },
   "source": [
    "**ADDED: Categorize according to age groups**\n",
    "I made a dictionary classifying acconding to age groups (using a four-group solution that is appropriate for such a small sample). Then I made a function that looks up the age group of a person when given their ID and print the results for all persons in the dataset. I could of course (also with the media groups above) add a column to the table with the infomration and not only print the results (so I have them stored in my data table) but for this exercise this seemed a sufficient solution. "
   ]
  },
  {
   "cell_type": "code",
   "execution_count": 8,
   "metadata": {},
   "outputs": [
    {
     "data": {
      "text/plain": [
       "{'18-25': range(18, 26),\n",
       " '26-44': range(27, 45),\n",
       " '45-65': range(45, 66),\n",
       " '65+': range(67, 100)}"
      ]
     },
     "execution_count": 8,
     "metadata": {},
     "output_type": "execute_result"
    }
   ],
   "source": [
    "age_categories = {\"18-25\":range(18,26), \"26-44\":range(27,45), \"45-65\":range(45,66), \"65+\":range(67,100)}\n",
    "age_categories"
   ]
  },
  {
   "cell_type": "code",
   "execution_count": 9,
   "metadata": {
    "collapsed": true
   },
   "outputs": [],
   "source": [
    "def classification_age(id):\n",
    "    age = dict_websites[id][\"age\"]\n",
    "    for key1, value1 in age_categories.items(): \n",
    "        if age in value1:\n",
    "            print(\"The person with ID number %s is in age group %s.\" %(id, key1))"
   ]
  },
  {
   "cell_type": "code",
   "execution_count": 12,
   "metadata": {},
   "outputs": [
    {
     "name": "stdout",
     "output_type": "stream",
     "text": [
      "The person with ID number 1 is in age group 18-25\n",
      "The person with ID number 2 is in age group 18-25\n",
      "The person with ID number 3 is in age group 26-44\n",
      "The person with ID number 4 is in age group 26-44\n",
      "The person with ID number 5 is in age group 45-65\n",
      "The person with ID number 6 is in age group 45-65\n",
      "The person with ID number 7 is in age group 18-25\n",
      "The person with ID number 8 is in age group 45-65\n"
     ]
    }
   ],
   "source": [
    "for key in dict_websites.keys():\n",
    "    classification_age(key)"
   ]
  },
  {
   "cell_type": "code",
   "execution_count": null,
   "metadata": {
    "collapsed": true
   },
   "outputs": [],
   "source": []
  }
 ],
 "metadata": {
  "kernelspec": {
   "display_name": "Python 3",
   "language": "python",
   "name": "python3"
  },
  "language_info": {
   "codemirror_mode": {
    "name": "ipython",
    "version": 3
   },
   "file_extension": ".py",
   "mimetype": "text/x-python",
   "name": "python",
   "nbconvert_exporter": "python",
   "pygments_lexer": "ipython3",
   "version": "3.7.4"
  }
 },
 "nbformat": 4,
 "nbformat_minor": 2
}
